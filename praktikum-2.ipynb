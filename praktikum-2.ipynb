{
 "cells": [
  {
   "attachments": {},
   "cell_type": "markdown",
   "metadata": {},
   "source": [
    "# Model Pendugaan Radiasi Matahari\n",
    "\n",
    "## Pendahuluan \n",
    "\n",
    "Radiasi matahari merupakan sumber energi utama dan berperan penting dalam siklus iklim di permukaan bumi. Besaran radiasi matahari yang datang kemudian mengalami proses pemantulan, pemancaran, dan penerusan baik secara langsung maupun tidak langsung ke dan dari permukaan bumi. Radiasi matahari yang datang tersebut berpengaruh terhadap pergerakan massa udara dan massa air di bumi, selanjutnya melalui proses evaporasi maupun transpirasi, uap air dilepaskan ke udara dan membentuk awan sehingga terjadi hujan.\n",
    "\n",
    "Pengukuran radiasi matahari secara langsung masih terbilang sedikit dengan periode perekaman data historis yang pendek. Padahal pengamatan radiasi matahari sangat penting dalam menjelaskan variabilitas dan perubahan iklim. Pada pemodelan iklim yang terus berkembang untuk menjelaskan kondisi iklim di masa lalu, saat ini dan masa depan tak lepas dari input data radiasi matahari dan kondisi karbon di atmosfer. Untuk mengetahui besaran nilai penduga radiasi matahari di suatu wilayah dapat dilakukan melalui model berdasarkan data historis parameter iklim lainnya seperti curah hujan dan suhu udara. Pendekatan dapat dilakukan dengan menggunakan model empirik dan model mekanistik.\n",
    "\n",
    "Aplikasi pengolahan data yang digunakan dalam praktikum ini adalah R dan Python (pilih salah satu). Data contoh yang digunakan adalah data cuaca di Hancock, Maine, Amerika Serikat "
   ]
  },
  {
   "attachments": {},
   "cell_type": "markdown",
   "metadata": {},
   "source": [
    "## Model Pendugaan Ball et al. (2004)\n",
    "\n",
    "Ball et al. [@ball2004] membangun model empiris untuk menduga radiasi matahari di permukaan bumi dengan masukan suhu udara maksimum, suhu udara minimum, curah hujan, dan *julian days*. Persamaan yang digunakan berupa regresi linier berganda, yaitu\n",
    "\n",
    "$$\n",
    "Y = \\beta_0 + \\beta_1 X_1 + \\beta_2 X_2 + \\beta_3 X_3 + ... + \\beta_{12} X_{12}\n",
    "$$\n",
    "\n",
    "di mana keterangan setiap variabel bebas dapat dilihat pada tabel berikut.\n",
    "\n",
    "| Variabel |                Keterangan                |\n",
    "| :------: | :--------------------------------------: |\n",
    "|  $X_1$   |             Curah hujan (mm)             |\n",
    "|  $X_2$   |         Suhu udara maksimum (°C)         |\n",
    "|  $X_3$   |         Suhu udara minimum (°C)          |\n",
    "|  $X_4$   |               Julian days                |\n",
    "|  $X_5$   |              (Curah hujan)²              |\n",
    "|  $X_6$   |          (Suhu udara maksimum)²          |\n",
    "|  $X_7$   |          (Suhu udara minimum)²           |\n",
    "|  $X_8$   |              (Julian days)²              |\n",
    "|  $X_9$   |     Curah hujan * Suhu udara minimum     |\n",
    "| $X_{10}$ | Suhu udara maksimum * Suhu udara minimum |\n",
    "| $X_{11}$ |    Curah hujan * Suhu udara maksimum     |\n",
    "| $X_{12}$ |    Suhu udara maksimum * Julian days     |\n",
    "\n",
    ": Keterangan variabel bebas dari persamaan empirik [@ball2004]\n",
    "\n"
   ]
  },
  {
   "attachments": {},
   "cell_type": "markdown",
   "metadata": {},
   "source": [
    "## Model Pendugaan Hunt et al. (1998)\n",
    "\n",
    "Model pendugaan radiasi matahari lain adalah oleh Hunt et al. [@hunt1998], yaitu gabungan model mekanistik dan empirik dengan masukan suhu udara maksimum, suhu udara minimum, dan curah hujan. Model mekanistik digunakan untuk menduga radiasi matahari yang berada di permukaan atmosfer (radiasi ekstraterestrial, $S_0$). Model pendugaan Hunt et al. adalah sebagai berikut.\n",
    "\n",
    "$$\n",
    "R_s = a_0 S_0 (T_{max} - T_{min})^{0.5} + a_1 T_{max} + a_2 P + a_3 P^2 + a_4\n",
    "$$\n",
    "\n",
    "dimana $R_s$ adalah radiasi matahari harian ($MJ~m^{−2}~hari^{−1}$), $S_0$ adalah radiasi matahari di puncak atmosfer ($MJ~m^{−2}~hari^{−1}$), $P$ adalah curah hujan (mm), $Tmax$ adalah suhu udara maksimum ($^o C$), dan $Tmin$ adalah suhu udara minimum ($^o C$). Untuk mengestimasi nilai $S_0$, persamaan yang digunakan adalah sebagai berikut"
   ]
  }
 ],
 "metadata": {
  "language_info": {
   "name": "python"
  },
  "orig_nbformat": 4
 },
 "nbformat": 4,
 "nbformat_minor": 2
}
