{
 "cells": [
  {
   "attachments": {},
   "cell_type": "markdown",
   "metadata": {},
   "source": [
    "# Impor Beberapa Package"
   ]
  },
  {
   "cell_type": "code",
   "execution_count": null,
   "metadata": {},
   "outputs": [],
   "source": [
    "from netCDF4 import Dataset\n",
    "import wrf"
   ]
  },
  {
   "attachments": {},
   "cell_type": "markdown",
   "metadata": {},
   "source": [
    "# Direktori WRF"
   ]
  },
  {
   "cell_type": "code",
   "execution_count": null,
   "metadata": {},
   "outputs": [],
   "source": [
    "wrf_path = '/home/absen/WRF-Model/WRF/test/em_real'"
   ]
  },
  {
   "attachments": {},
   "cell_type": "markdown",
   "metadata": {},
   "source": [
    "# Buka File"
   ]
  },
  {
   "cell_type": "code",
   "execution_count": null,
   "metadata": {},
   "outputs": [],
   "source": [
    "wrf_d03 = Dataset(f\"{wrf_path}/wrfout_d03_2022-01-01_00:00:00\")\n",
    "wrf_d03"
   ]
  },
  {
   "cell_type": "code",
   "execution_count": null,
   "metadata": {},
   "outputs": [],
   "source": [
    "wrf_t2 = wrf.getvar(wrf_d03, \"T2\", timeidx=wrf.ALL_TIMES)\n",
    "wrf_t2"
   ]
  },
  {
   "cell_type": "code",
   "execution_count": null,
   "metadata": {},
   "outputs": [],
   "source": [
    "lats, lons = wrf.latlon_coords(wrf_t2)"
   ]
  }
 ],
 "metadata": {
  "kernelspec": {
   "display_name": "clim-explore",
   "language": "python",
   "name": "python3"
  },
  "language_info": {
   "name": "python",
   "version": "3.10.8 | packaged by conda-forge | (main, Nov 22 2022, 08:26:04) [GCC 10.4.0]"
  },
  "orig_nbformat": 4,
  "vscode": {
   "interpreter": {
    "hash": "6717534a7dd3eb3201f48398c0faccf885b75d2e58ba73c214558c8381347534"
   }
  }
 },
 "nbformat": 4,
 "nbformat_minor": 2
}
