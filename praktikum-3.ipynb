{
 "cells": [
  {
   "cell_type": "markdown",
   "metadata": {},
   "source": [
    "# Koreksi Bias Statistik\n",
    "\n",
    "## Pendahuluan\n",
    "\n",
    "*Global Climate Model* (GCM) adalah alat utama dan paling komprehensif yang digunakan dalam simulasi perubahan iklim pada masa lalu maupun masa mendatang. GCM memiliki kemampuan dalam melakukan simulasi variabilitas iklim dan sifat-sifat di permukaan bumi pada skala global. Kelemahan GCM adalah ketidakmampuan menangkap kejadian-kejadian iklim pada skala regional maupun lokal karena resolusi spasial yang masih kasar. Dynamical downscalling dengan simulasi Regional Climate Model (RCM) dilakukan untuk memperhalus resolusi dari GCM. Simulasi RCM secara umum menunjukkan bias secara sistematik terhadap observasi [@delei2019].\n",
    "\n",
    "Metode koreksi bias biasanya menggunakan fungsi transfer/koreksi yang mengubah data model menjadi data terkoreksi secara statistik. Selain Delta Method [@sperna2010; @graham2007], metode koreksi bias lain telah dikembangkan, seperti linear scalling correction, power transformation, empirical quantile mapping, dan parametric quantile mapping [@delei2019]. Beberapa keterbatasan dalam melakukan koreksi bias, yaitu umumnya tidak memiliki dasar fisika yang kuat, menghasilkan perubahan konsistensi secara spasial, perubahan hubungan antar variabel, melawan aturan hukum konservasi energi, tidak memperhitungkan ketidakpastian dari kumpulan data observasi dan variabilitas internal, dan galat model dan fungsi koreksi umumnya dianggap stasioner terhadap waktu [@ehret2012hess; @addor2015; @maraun2016]. Ringkasan pengklasifikasian metode koreksi bias dapat dilihat pada [@tbl-watanabe] [@watanabe2012].\n",
    "\n",
    "+---------------+--------------------------------------------------------------------------------------+----------------------------------------------------------------------------------------------------------------------------------------------------+------------------------------------------------------------------------------------------------+------------------------------------------------------------------------------------------------------------------------------------------------+\n",
    "|               | Tipe konstan                                                                         | Tipe variabel                                                                                                                                      | Tipe parametrik                                                                                | Tipe non-parametrik                                                                                                                            |\n",
    "+===============+======================================================================================+====================================================================================================================================================+================================================================================================+================================================================================================================================================+\n",
    "| Definisi      | Nilai statistik pada periode masa depan tidak dimasukkan pada persamaan koreksi bias | Nilai statistik pada periode masa depan dimasukkan pada persamaan koreksi bias                                                                     | Distribusi parametrik diasumsikan masuk ke simulasi dan/atau data observasi                    | Distribusi parametrik tidak digunakan dalam koreksi bias                                                                                       |\n",
    "+---------------+--------------------------------------------------------------------------------------+----------------------------------------------------------------------------------------------------------------------------------------------------+------------------------------------------------------------------------------------------------+------------------------------------------------------------------------------------------------------------------------------------------------+\n",
    "| Karakteristik | -   Statistik pada periode masa depan tidak mempengaruhi hasil dari koreksi bias     | -   Statistik pada periode masa depan mempengaruhi hasil dari koreksi bias                                                                         | -   Kuat secara statistik                                                                      | -   Diperlukan ekstrapolasi untuk nilai-nilai yang lebih/kurang dari periode dasar                                                             |\n",
    "|               | -   Panjang data koreksi bias dapat diperoleh berapapun panjang periodenya           | -   Mudah untuk melakukan penyesuaian perubahan secara statistik dari periode dasar ke masa depan antara data belum terkoreksi dan data terkoreksi |                                                                                                |                                                                                                                                                |\n",
    "|               |                                                                                      | -   Panjang data terkoreksi bias harus sama dengan data periode dasar                                                                              | -   Nilai yang tidak realistis dapat dihasilkan jika distribusi tidak diperkirakan dengan baik | -   Karena derajat bebas sama dengan jumlah parameter, ada permasalahan dalam *functional robustness* jika asumsinya distribusi non parametrik |\n",
    "+---------------+--------------------------------------------------------------------------------------+----------------------------------------------------------------------------------------------------------------------------------------------------+------------------------------------------------------------------------------------------------+------------------------------------------------------------------------------------------------------------------------------------------------+\n",
    "\n",
    ": Klasifikasi metode koreksi bias statistik {#tbl-watanabe tbl-colwidths=\"\\[20, 25, 25, 30\\]\"}"
   ]
  },
  {
   "cell_type": "markdown",
   "metadata": {},
   "source": [
    "## Metode Delta\n",
    "\n",
    "Cara paling sederhana untuk melakukan koreksi bias adalah dengan menambahkan/mengalikan data model ke data observasi pada periode dasar. @eq-1 umum digunakan pada koreksi data suhu dan @eq-2 untuk curah hujan.\n",
    "\n",
    "$$\n",
    "x_{cor, i} = x_{o,i} + \\mu_{p} - \\mu_{b}\\tag{1}\n",
    "$$ {#eq-1}\n",
    "\n",
    "$$\n",
    "x_{cor,i} = x_{o, i} . \\frac{\\mu_p}{\\mu_b} \\tag{2}\n",
    "$$ {#eq-2}\n",
    "\n",
    "dimana $x_{cor,i}$ dan $x_{o,i}$ $(i = 1, 2, …)$ secara berturut-turut dinotasikan sebagai data terkoreksi bias dan observasi dalam periode dasar tertentu, $\\mu$ adalah rata-rata. Subskrip $b$, $o$, dan $p$ secara berturut-turut adalah data dasar, observasi, dan proyeksi\n",
    "\n",
    "## Metode Distribusi\n",
    "\n",
    "Koreksi bias dengan metode ini berdasarkan distribusi statistik dari data model yang ditransformasikan untuk menyesuaikan distribusi data dari observasi. Distribusi normal umum diasumsikan untuk data suhu udara [@piani2010suhu], sedangkan distribusi gamma untuk data curah hujan [@piani2010pr]. Persamaan *Probability Density Function* (PDF) untuk sebaran normal (@eq-3) dan sebaran gamma (@eq-4) adalah sebagai berikut.\n",
    "\n",
    "$$ \n",
    "f(x, \\mu, \\sigma) = \\frac{1}{\\sigma \\sqrt{2\\pi}} ~ e^{-0.5 (\\frac{x - \\mu}{\\sigma})^2} \\tag{3}\n",
    "$$ {#eq-3}\n",
    "\n",
    "$$\n",
    "f(x, \\alpha, \\beta) = \\frac{exp(-\\frac{x}{\\beta}) . (\\frac{x}{\\beta})^{\\alpha-1}}{\\Gamma(\\alpha)\\beta} \\tag{4}\n",
    "$$ {#eq-4}\n",
    "\n",
    "dengan x adalah data curah hujan atau suhu udara, $\\alpha$ adalah parameter skala, $\\beta$ adalah parameter bentuk, $\\sigma$ adalah standar deviasi, dan $\\mu$ adalah rata-rata. Proses koreksi bias dihitung dari invers *Cumulative Density Function* (CDF). Pada @eq-4, nilai $\\alpha$ dan $\\beta$ dapat diestimasi dengan metode Greenwood dan Durand [@greenwood1960]. Persamaannya sebagai berikut.\n",
    "\n",
    "$$\n",
    "\\alpha = \n",
    "  \\begin{cases}\n",
    "    \\frac{0.5000876+0.1648852y−0.0544276y^2}{y} &,~ \\text{jika} ~ 0 \\leq y \\leq 0.5772 \\\\\n",
    "    \\frac{8.898919+9.05995y+0.9775373y^2}{17.79728y+11.968477y^2+y^3} &, ~ \\text{jika} ~ 0.5772 < y \\leq 17 \\\\\n",
    "    \\frac{1}{y} &, ~ \\text{jika} ~ y > 17\n",
    "  \\end{cases} \\tag{5}\n",
    "$$ {#eq-5}\n",
    "\n",
    "$$\n",
    "y = ln(\\bar{x}) - \\frac{1}{n} \\sum_{i = 1} ^ n ln(x_i) \\tag{6}\n",
    "$$ {#eq-6}\n",
    "\n",
    "$$\n",
    "\\beta = \\frac{\\bar{x}}{\\alpha} \\tag{7}\n",
    "$$ {#eq-7}\n",
    "\n",
    "Persamaan [@eq-5; @eq-6; @eq-7] menjadi masalah ketika menerapkannya pada data curah hujan yang bernilai 0."
   ]
  }
 ],
 "metadata": {
  "kernelspec": {
   "display_name": "wrf",
   "language": "python",
   "name": "python3"
  },
  "language_info": {
   "name": "python",
   "version": "3.11.4"
  },
  "orig_nbformat": 4
 },
 "nbformat": 4,
 "nbformat_minor": 2
}
